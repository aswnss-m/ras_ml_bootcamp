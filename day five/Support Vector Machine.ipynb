{
 "cells": [
  {
   "cell_type": "code",
   "execution_count": null,
   "id": "2ac05f5e",
   "metadata": {},
   "outputs": [],
   "source": [
    "'''\n",
    "kernal = f(x,y)= 2x+3y = z\n",
    "\n",
    "'''"
   ]
  },
  {
   "cell_type": "code",
   "execution_count": 12,
   "id": "5d38b967",
   "metadata": {},
   "outputs": [],
   "source": [
    "import pandas as pd\n",
    "import numpy as np\n",
    "import matplotlib.pyplot as plt\n",
    "import sklearn\n",
    "from sklearn import datasets\n",
    "from sklearn import svm"
   ]
  },
  {
   "cell_type": "code",
   "execution_count": 7,
   "id": "184e0287",
   "metadata": {},
   "outputs": [
    {
     "data": {
      "text/html": [
       "<div>\n",
       "<style scoped>\n",
       "    .dataframe tbody tr th:only-of-type {\n",
       "        vertical-align: middle;\n",
       "    }\n",
       "\n",
       "    .dataframe tbody tr th {\n",
       "        vertical-align: top;\n",
       "    }\n",
       "\n",
       "    .dataframe thead th {\n",
       "        text-align: right;\n",
       "    }\n",
       "</style>\n",
       "<table border=\"1\" class=\"dataframe\">\n",
       "  <thead>\n",
       "    <tr style=\"text-align: right;\">\n",
       "      <th></th>\n",
       "      <th>sepal length (cm)</th>\n",
       "      <th>sepal width (cm)</th>\n",
       "      <th>petal length (cm)</th>\n",
       "      <th>petal width (cm)</th>\n",
       "    </tr>\n",
       "  </thead>\n",
       "  <tbody>\n",
       "    <tr>\n",
       "      <th>0</th>\n",
       "      <td>5.1</td>\n",
       "      <td>3.5</td>\n",
       "      <td>1.4</td>\n",
       "      <td>0.2</td>\n",
       "    </tr>\n",
       "    <tr>\n",
       "      <th>1</th>\n",
       "      <td>4.9</td>\n",
       "      <td>3.0</td>\n",
       "      <td>1.4</td>\n",
       "      <td>0.2</td>\n",
       "    </tr>\n",
       "    <tr>\n",
       "      <th>2</th>\n",
       "      <td>4.7</td>\n",
       "      <td>3.2</td>\n",
       "      <td>1.3</td>\n",
       "      <td>0.2</td>\n",
       "    </tr>\n",
       "    <tr>\n",
       "      <th>3</th>\n",
       "      <td>4.6</td>\n",
       "      <td>3.1</td>\n",
       "      <td>1.5</td>\n",
       "      <td>0.2</td>\n",
       "    </tr>\n",
       "    <tr>\n",
       "      <th>4</th>\n",
       "      <td>5.0</td>\n",
       "      <td>3.6</td>\n",
       "      <td>1.4</td>\n",
       "      <td>0.2</td>\n",
       "    </tr>\n",
       "  </tbody>\n",
       "</table>\n",
       "</div>"
      ],
      "text/plain": [
       "   sepal length (cm)  sepal width (cm)  petal length (cm)  petal width (cm)\n",
       "0                5.1               3.5                1.4               0.2\n",
       "1                4.9               3.0                1.4               0.2\n",
       "2                4.7               3.2                1.3               0.2\n",
       "3                4.6               3.1                1.5               0.2\n",
       "4                5.0               3.6                1.4               0.2"
      ]
     },
     "execution_count": 7,
     "metadata": {},
     "output_type": "execute_result"
    }
   ],
   "source": [
    "iris_dataset = datasets.load_iris()\n",
    "iris = pd.DataFrame(iris_dataset.data, columns = iris_dataset.feature_names)\n",
    "iris.head()"
   ]
  },
  {
   "cell_type": "code",
   "execution_count": 8,
   "id": "e4916e0e",
   "metadata": {},
   "outputs": [],
   "source": [
    "sepal_length = iris_dataset['data'][:,0] #All rows in 0th column\n",
    "petal_length = iris_dataset['data'][:,2] #All rows in 2nd column ie : third column"
   ]
  },
  {
   "cell_type": "code",
   "execution_count": 9,
   "id": "bdf6276c",
   "metadata": {},
   "outputs": [
    {
     "data": {
      "image/png": "[encoded data removed]",
      "text/plain": [
       "<Figure size 432x288 with 1 Axes>"
      ]
     },
     "metadata": {
      "needs_background": "light"
     },
     "output_type": "display_data"
    }
   ],
   "source": [
    "classes = iris_dataset['target']\n",
    "plt.scatter(sepal_length,petal_length, c=classes)\n",
    "plt.xlabel('Sepal length')\n",
    "plt.ylabel('Petal length')\n",
    "plt.show()"
   ]
  },
  {
   "cell_type": "code",
   "execution_count": 10,
   "id": "5e9bf493",
   "metadata": {},
   "outputs": [],
   "source": [
    "X = iris_dataset.data\n",
    "y = iris_dataset.target"
   ]
  },
  {
   "cell_type": "code",
   "execution_count": 17,
   "id": "da13097a",
   "metadata": {},
   "outputs": [
    {
     "name": "stdout",
     "output_type": "stream",
     "text": [
      "100.0\n"
     ]
    }
   ],
   "source": [
    "x_train,x_test,y_train,y_test = sklearn.model_selection.train_test_split(X,y,test_size=0.2)\n",
    "Edith = svm.SVC(kernel = 'linear')\n",
    "Edith.fit(x_train,y_train)\n",
    "\n",
    "print(Edith.score(x_test,y_test)*100)"
   ]
  },
  {
   "cell_type": "code",
   "execution_count": 19,
   "id": "38bf4b07",
   "metadata": {},
   "outputs": [
    {
     "name": "stdout",
     "output_type": "stream",
     "text": [
      "Prediction : 1 || Actually : 1\n",
      "Prediction : 1 || Actually : 1\n",
      "Prediction : 0 || Actually : 0\n",
      "Prediction : 0 || Actually : 0\n",
      "Prediction : 1 || Actually : 1\n",
      "Prediction : 2 || Actually : 2\n",
      "Prediction : 1 || Actually : 1\n",
      "Prediction : 2 || Actually : 2\n",
      "Prediction : 1 || Actually : 1\n",
      "Prediction : 0 || Actually : 0\n",
      "Prediction : 2 || Actually : 2\n",
      "Prediction : 2 || Actually : 2\n",
      "Prediction : 0 || Actually : 0\n",
      "Prediction : 2 || Actually : 2\n",
      "Prediction : 2 || Actually : 2\n",
      "Prediction : 0 || Actually : 0\n",
      "Prediction : 2 || Actually : 2\n",
      "Prediction : 1 || Actually : 1\n",
      "Prediction : 0 || Actually : 0\n",
      "Prediction : 2 || Actually : 2\n",
      "Prediction : 1 || Actually : 1\n",
      "Prediction : 2 || Actually : 2\n",
      "Prediction : 0 || Actually : 0\n",
      "Prediction : 1 || Actually : 1\n",
      "Prediction : 0 || Actually : 0\n",
      "Prediction : 2 || Actually : 2\n",
      "Prediction : 2 || Actually : 2\n",
      "Prediction : 0 || Actually : 0\n",
      "Prediction : 2 || Actually : 2\n",
      "Prediction : 0 || Actually : 0\n"
     ]
    }
   ],
   "source": [
    "predictions = Edith.predict(x_test)\n",
    "for i in range(len(predictions)):\n",
    "    print(\"Prediction : {} || Actually : {}\".format(predictions[i],y_test[i]))"
   ]
  }
 ],
 "metadata": {
  "kernelspec": {
   "display_name": "Python 3 (ipykernel)",
   "language": "python",
   "name": "python3"
  },
  "language_info": {
   "codemirror_mode": {
    "name": "ipython",
    "version": 3
   },
   "file_extension": ".py",
   "mimetype": "text/x-python",
   "name": "python",
   "nbconvert_exporter": "python",
   "pygments_lexer": "ipython3",
   "version": "3.8.10"
  }
 },
 "nbformat": 4,
 "nbformat_minor": 5
}
