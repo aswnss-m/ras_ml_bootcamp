{
 "cells": [
  {
   "cell_type": "code",
   "execution_count": 61,
   "id": "2674423f",
   "metadata": {},
   "outputs": [],
   "source": [
    "#importing dependencies\n",
    "import pandas as pd\n",
    "from sklearn import model_selection\n",
    "from sklearn.neighbors import KNeighborsClassifier\n",
    "import matplotlib.pyplot as plt"
   ]
  },
  {
   "cell_type": "code",
   "execution_count": 2,
   "id": "8b6c377c",
   "metadata": {},
   "outputs": [
    {
     "data": {
      "text/html": [
       "<div>\n",
       "<style scoped>\n",
       "    .dataframe tbody tr th:only-of-type {\n",
       "        vertical-align: middle;\n",
       "    }\n",
       "\n",
       "    .dataframe tbody tr th {\n",
       "        vertical-align: top;\n",
       "    }\n",
       "\n",
       "    .dataframe thead th {\n",
       "        text-align: right;\n",
       "    }\n",
       "</style>\n",
       "<table border=\"1\" class=\"dataframe\">\n",
       "  <thead>\n",
       "    <tr style=\"text-align: right;\">\n",
       "      <th></th>\n",
       "      <th>Age</th>\n",
       "      <th>EstimatedSalary</th>\n",
       "      <th>Purchased</th>\n",
       "    </tr>\n",
       "  </thead>\n",
       "  <tbody>\n",
       "    <tr>\n",
       "      <th>0</th>\n",
       "      <td>19</td>\n",
       "      <td>19000</td>\n",
       "      <td>0</td>\n",
       "    </tr>\n",
       "    <tr>\n",
       "      <th>1</th>\n",
       "      <td>35</td>\n",
       "      <td>20000</td>\n",
       "      <td>0</td>\n",
       "    </tr>\n",
       "    <tr>\n",
       "      <th>2</th>\n",
       "      <td>26</td>\n",
       "      <td>43000</td>\n",
       "      <td>0</td>\n",
       "    </tr>\n",
       "    <tr>\n",
       "      <th>3</th>\n",
       "      <td>27</td>\n",
       "      <td>57000</td>\n",
       "      <td>0</td>\n",
       "    </tr>\n",
       "    <tr>\n",
       "      <th>4</th>\n",
       "      <td>19</td>\n",
       "      <td>76000</td>\n",
       "      <td>0</td>\n",
       "    </tr>\n",
       "    <tr>\n",
       "      <th>...</th>\n",
       "      <td>...</td>\n",
       "      <td>...</td>\n",
       "      <td>...</td>\n",
       "    </tr>\n",
       "    <tr>\n",
       "      <th>395</th>\n",
       "      <td>46</td>\n",
       "      <td>41000</td>\n",
       "      <td>1</td>\n",
       "    </tr>\n",
       "    <tr>\n",
       "      <th>396</th>\n",
       "      <td>51</td>\n",
       "      <td>23000</td>\n",
       "      <td>1</td>\n",
       "    </tr>\n",
       "    <tr>\n",
       "      <th>397</th>\n",
       "      <td>50</td>\n",
       "      <td>20000</td>\n",
       "      <td>1</td>\n",
       "    </tr>\n",
       "    <tr>\n",
       "      <th>398</th>\n",
       "      <td>36</td>\n",
       "      <td>33000</td>\n",
       "      <td>0</td>\n",
       "    </tr>\n",
       "    <tr>\n",
       "      <th>399</th>\n",
       "      <td>49</td>\n",
       "      <td>36000</td>\n",
       "      <td>1</td>\n",
       "    </tr>\n",
       "  </tbody>\n",
       "</table>\n",
       "<p>400 rows × 3 columns</p>\n",
       "</div>"
      ],
      "text/plain": [
       "     Age  EstimatedSalary  Purchased\n",
       "0     19            19000          0\n",
       "1     35            20000          0\n",
       "2     26            43000          0\n",
       "3     27            57000          0\n",
       "4     19            76000          0\n",
       "..   ...              ...        ...\n",
       "395   46            41000          1\n",
       "396   51            23000          1\n",
       "397   50            20000          1\n",
       "398   36            33000          0\n",
       "399   49            36000          1\n",
       "\n",
       "[400 rows x 3 columns]"
      ]
     },
     "execution_count": 2,
     "metadata": {},
     "output_type": "execute_result"
    }
   ],
   "source": [
    "dataset = pd.read_csv('/home/aswnss/Coding/Python/Machine-Learning-Projects/ras ml/datasets/Social_Network_Ads.csv',sep=',')"
   ]
  },
  {
   "cell_type": "code",
   "execution_count": 58,
   "id": "e6ac397c",
   "metadata": {},
   "outputs": [
    {
     "name": "stdout",
     "output_type": "stream",
     "text": [
      "0.825\n"
     ]
    }
   ],
   "source": [
    "X = dataset.drop(['Purchased'],axis=1)\n",
    "y = list(dataset['Purchased'])\n",
    "model = KNeighborsClassifier(n_neighbors=3)\n",
    "model.fit(x_train,y_train)\n",
    "print(model.score(x_test,y_test))\n"
   ]
  },
  {
   "cell_type": "code",
   "execution_count": 59,
   "id": "08e94815",
   "metadata": {},
   "outputs": [
    {
     "name": "stdout",
     "output_type": "stream",
     "text": [
      "Predicted Profit : 1  Actual Profit : 1\n",
      "Predicted Profit : 1  Actual Profit : 1\n",
      "Predicted Profit : 0  Actual Profit : 0\n",
      "Predicted Profit : 0  Actual Profit : 0\n",
      "Predicted Profit : 1  Actual Profit : 1\n",
      "Predicted Profit : 0  Actual Profit : 0\n",
      "Predicted Profit : 0  Actual Profit : 0\n",
      "Predicted Profit : 0  Actual Profit : 1\n",
      "Predicted Profit : 0  Actual Profit : 0\n",
      "Predicted Profit : 1  Actual Profit : 0\n",
      "Predicted Profit : 0  Actual Profit : 0\n",
      "Predicted Profit : 0  Actual Profit : 0\n",
      "Predicted Profit : 0  Actual Profit : 1\n",
      "Predicted Profit : 0  Actual Profit : 0\n",
      "Predicted Profit : 0  Actual Profit : 0\n",
      "Predicted Profit : 1  Actual Profit : 0\n",
      "Predicted Profit : 0  Actual Profit : 0\n",
      "Predicted Profit : 0  Actual Profit : 0\n",
      "Predicted Profit : 1  Actual Profit : 1\n",
      "Predicted Profit : 0  Actual Profit : 0\n",
      "Predicted Profit : 1  Actual Profit : 1\n",
      "Predicted Profit : 0  Actual Profit : 0\n",
      "Predicted Profit : 0  Actual Profit : 0\n",
      "Predicted Profit : 0  Actual Profit : 1\n",
      "Predicted Profit : 0  Actual Profit : 1\n",
      "Predicted Profit : 0  Actual Profit : 0\n",
      "Predicted Profit : 1  Actual Profit : 1\n",
      "Predicted Profit : 0  Actual Profit : 1\n",
      "Predicted Profit : 0  Actual Profit : 0\n",
      "Predicted Profit : 0  Actual Profit : 0\n",
      "Predicted Profit : 0  Actual Profit : 0\n",
      "Predicted Profit : 0  Actual Profit : 0\n",
      "Predicted Profit : 0  Actual Profit : 0\n",
      "Predicted Profit : 1  Actual Profit : 1\n",
      "Predicted Profit : 0  Actual Profit : 0\n",
      "Predicted Profit : 0  Actual Profit : 0\n",
      "Predicted Profit : 0  Actual Profit : 0\n",
      "Predicted Profit : 0  Actual Profit : 0\n",
      "Predicted Profit : 0  Actual Profit : 0\n",
      "Predicted Profit : 0  Actual Profit : 0\n"
     ]
    }
   ],
   "source": [
    "\n",
    "prediction = model.predict(x_test)\n",
    "for i in range(len(prediction)):\n",
    "    print(\"Predicted Profit : {}  Actual Profit : {}\".format(prediction[i],y_test[i]))"
   ]
  },
  {
   "cell_type": "code",
   "execution_count": 68,
   "id": "95805a34",
   "metadata": {},
   "outputs": [
    {
     "data": {
      "image/png": "[encoded data removed]",
      "text/plain": [
       "<Figure size 432x288 with 1 Axes>"
      ]
     },
     "metadata": {
      "needs_background": "light"
     },
     "output_type": "display_data"
    }
   ],
   "source": [
    "plt.scatter(dataset['Age'],dataset['EstimatedSalary'],color = 'red')\n",
    "plt.xlabel('Age')\n",
    "plt.ylabel('Estimated Salary')\n",
    "plt.show()"
   ]
  }
 ],
 "metadata": {
  "kernelspec": {
   "display_name": "Python 3 (ipykernel)",
   "language": "python",
   "name": "python3"
  },
  "language_info": {
   "codemirror_mode": {
    "name": "ipython",
    "version": 3
   },
   "file_extension": ".py",
   "mimetype": "text/x-python",
   "name": "python",
   "nbconvert_exporter": "python",
   "pygments_lexer": "ipython3",
   "version": "3.8.10"
  }
 },
 "nbformat": 4,
 "nbformat_minor": 5
}
